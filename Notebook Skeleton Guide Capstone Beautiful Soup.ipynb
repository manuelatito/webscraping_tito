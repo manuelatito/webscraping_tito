{
 "cells": [
  {
   "cell_type": "markdown",
   "metadata": {},
   "source": [
    "# Capstone Webscraping using BeautifulSoup\n",
    "\n",
    "This notebook contains guidances & tasks on the data processing for the application\n",
    "\n",
    "## Background\n",
    "\n",
    "Saya ingin menampilkan 10 data Film Paling Populer di Tahun 2024 dalam sebuah plot yang diambil dari website IMDB Box Office Mojo dengan menggunakan teknik scrapping. Teknik scrapping ini dibutuhkan untuk membuat sebuah halaman website menjadi sebuah data csv. Kemudian dilanjutkan dengan proses data cleansing, sampai akhirnya dapat membuat visualisasi dan dashboard untuk data tersebut. \n",
    "\n",
    "## Requesting the Data and Creating a BeautifulSoup\n",
    "\n",
    "Let's start by requesting the webpage using the `get` method from the `requests` library."
   ]
  },
  {
   "cell_type": "code",
   "execution_count": 2,
   "metadata": {
    "ExecuteTime": {
     "end_time": "2020-01-13T05:12:23.275508Z",
     "start_time": "2020-01-13T05:12:20.009898Z"
    }
   },
   "outputs": [
    {
     "data": {
      "text/plain": [
       "<Response [200]>"
      ]
     },
     "execution_count": 2,
     "metadata": {},
     "output_type": "execute_result"
    }
   ],
   "source": [
    "import requests\n",
    "\n",
    "url_get = requests.get('https://www.boxofficemojo.com/year/world/')\n",
    "url_get"
   ]
  },
  {
   "cell_type": "markdown",
   "metadata": {},
   "source": [
    "To visualize what exactly you get from the `request.get`, we can use `.content` so see what we exactly get (HTML content), in here i slice it so it won't make our screen full of the html we get from the page. You can delete the slicing if you want to see what we fully get."
   ]
  },
  {
   "cell_type": "code",
   "execution_count": 3,
   "metadata": {
    "ExecuteTime": {
     "end_time": "2020-01-13T05:12:23.290648Z",
     "start_time": "2020-01-13T05:12:23.277650Z"
    }
   },
   "outputs": [
    {
     "data": {
      "text/plain": [
       "b'!doctype html><html class=\"a-no-js\" data-19ax5a9jf=\"dingo\"><head><script>var aPageStart = (new Date()).getTime();</script><meta charset=\"utf-8\"/>\\n<script type=\\'text/javascript\\'>var ue_t0=ue_t0||+new Date();</script>\\n<script type=\\'text/javascript\\'>\\nwindow.ue_ihb = (window.ue_ihb || window.ueinit || 0) + 1;\\nif (window.ue_ihb === 1) {\\n\\nvar ue_csm = window,\\n    ue_hob = +new Date();\\n(function(d){var e=d.ue=d.ue||{},f=Date.now||function(){return+new Date};e.d=function(b){return f()-(b?0:d.ue_t0)};e.'"
      ]
     },
     "execution_count": 3,
     "metadata": {},
     "output_type": "execute_result"
    }
   ],
   "source": [
    "url_get.content[1:500]"
   ]
  },
  {
   "cell_type": "markdown",
   "metadata": {},
   "source": [
    "As we can see we get a very unstructured and complex html, which actually contains the codes needed to show the webpages on your web browser. But we as human still confused what and where we can use that piece of code, so here where we use the beautifulsoup. Beautiful soup class will result a beautifulsoup object. Beautiful Soup transforms a complex HTML document into a complex tree of Python objects. \n",
    "\n",
    "Let's create a BeautifulSoup object and feel free to explore the object here."
   ]
  },
  {
   "cell_type": "code",
   "execution_count": 4,
   "metadata": {
    "ExecuteTime": {
     "end_time": "2020-01-13T05:12:23.808122Z",
     "start_time": "2020-01-13T05:12:23.292610Z"
    }
   },
   "outputs": [
    {
     "name": "stdout",
     "output_type": "stream",
     "text": [
      "<class 'bs4.BeautifulSoup'>\n"
     ]
    }
   ],
   "source": [
    "from bs4 import BeautifulSoup \n",
    "\n",
    "soup = BeautifulSoup(url_get.content,\"html.parser\")\n",
    "print(type(soup))"
   ]
  },
  {
   "cell_type": "markdown",
   "metadata": {},
   "source": [
    "## Finding the right key to scrap the data & Extracting the right information"
   ]
  },
  {
   "cell_type": "markdown",
   "metadata": {},
   "source": [
    "To extract the desired information, we need to find the right key using the .find() method. We can explore the HTML structure using .prettify().\n",
    "\n",
    "Pada bagian ini kita ingin mengakses key dari tabel data Film Paling Populer di tahun 2024 pada website Box Office Mojo sebanyak 200 Judul Film.\n",
    "Tabel tersebut berisi keterangan berupa Rank, Release group, Worldwide, Domestic dan Foreign. \n",
    "Rank di sini menampilkan ranking Film yang paling banyak ditonton/paling populer, Release Group menampilkan Judul Film, Worldwide menampilkan penjualan Film di seluruh dunia, Domestic menampilkan penjualan Film di lingkup Domestic, dan Foreign menampilkan penjualan Film di Luar Negeri. Saya mendefinisikan Film Populer berdasarkan data jumlah penjualan tiket yang ada pada website tersebut. \n",
    "\n",
    "Untuk mengakses key ini, saya mengambil dari halaman website Box Office Mojo dengan cara klik kanan pada index baris tabel, lalu pilih inspect untuk mendapatkan sort HTML nya, kemudian saya copy dan melakukan extract data dengan menggunakan kode berikut:\n"
   ]
  },
  {
   "cell_type": "code",
   "execution_count": 5,
   "metadata": {
    "ExecuteTime": {
     "end_time": "2020-01-13T05:12:23.878904Z",
     "start_time": "2020-01-13T05:12:23.854974Z"
    }
   },
   "outputs": [
    {
     "name": "stdout",
     "output_type": "stream",
     "text": [
      "div class=\"a-section imdb-scroll-table-inner\">\n",
      " <table class=\"a-bordered a-horizontal-stripes a-size-base a-span12 mojo-body-table mojo-table-annotated\">\n",
      "  <tr>\n",
      "   <th class=\"a-text-right mojo-field-type-rank mojo-sort-column mojo-sortable-column a-nowrap\">\n",
      "    <a class=\"a-link-normal a-nowrap\" href=\"?sort=rank&amp;ref_=bo_ydw__resort#table\" title=\"Rank\">\n",
      "     <span class=\"a-color-state\">\n",
      "      Rank\n",
      "     </span>\n",
      "     <span class=\"a-letter-space\">\n",
      "     </span>\n",
      "     <span class=\"icon aok-relative\n"
     ]
    }
   ],
   "source": [
    "table = soup.find('div', attrs = {'class': 'a-section imdb-scroll-table-inner'})\n",
    "print(table.prettify()[1:500])"
   ]
  },
  {
   "cell_type": "markdown",
   "metadata": {},
   "source": [
    "Next, we need to find the row length."
   ]
  },
  {
   "cell_type": "code",
   "execution_count": 6,
   "metadata": {},
   "outputs": [
    {
     "data": {
      "text/plain": [
       "201"
      ]
     },
     "execution_count": 6,
     "metadata": {},
     "output_type": "execute_result"
    }
   ],
   "source": [
    "rows = table.find_all('tr')\n",
    "row_length = len(rows)\n",
    "row_length"
   ]
  },
  {
   "cell_type": "code",
   "execution_count": 7,
   "metadata": {},
   "outputs": [
    {
     "data": {
      "text/plain": [
       "[<td class=\"a-text-right mojo-header-column mojo-truncate mojo-field-type-rank mojo-sort-column\">1</td>,\n",
       " <td class=\"a-text-left mojo-field-type-release_group\"><a class=\"a-link-normal\" href=\"/releasegroup/gr2058375685/?ref_=bo_ydw_table_1\">Dune: Part Two</a></td>,\n",
       " <td class=\"a-text-right mojo-field-type-money\">$704,242,968</td>,\n",
       " <td class=\"a-text-right mojo-field-type-money\">$279,742,968</td>,\n",
       " <td class=\"a-text-right mojo-field-type-percent\">39.7%</td>,\n",
       " <td class=\"a-text-right mojo-field-type-money\">$424,500,000</td>,\n",
       " <td class=\"a-text-right mojo-field-type-percent\">60.3%</td>]"
      ]
     },
     "execution_count": 7,
     "metadata": {},
     "output_type": "execute_result"
    }
   ],
   "source": [
    "rows[1].findAll('td')"
   ]
  },
  {
   "cell_type": "code",
   "execution_count": 8,
   "metadata": {},
   "outputs": [
    {
     "data": {
      "text/plain": [
       "'Dune: Part Two'"
      ]
     },
     "execution_count": 8,
     "metadata": {},
     "output_type": "execute_result"
    }
   ],
   "source": [
    "rows[1].findAll('td')[1].text"
   ]
  },
  {
   "cell_type": "code",
   "execution_count": 9,
   "metadata": {},
   "outputs": [
    {
     "name": "stdout",
     "output_type": "stream",
     "text": [
      "Dune: Part Two\n",
      "Godzilla x Kong: The New Empire\n",
      "Kung Fu Panda 4\n",
      "Ghostbusters: Frozen Empire\n",
      "Bob Marley: One Love\n",
      "The Beekeeper\n",
      "Mean Girls\n",
      "Madame Web\n",
      "Argylle\n",
      "Exhuma\n",
      "Civil War\n",
      "Haikyuu!! The Dumpster Battle\n",
      "Night Swim\n",
      "The First Omen\n",
      "Demon Slayer: Kimetsu No Yaiba - To the Hashira Training\n",
      "Detective Conan: The Million-Dollar Pentagram\n",
      "Imaginary\n",
      "Monkey Man\n",
      "Arthur the King\n",
      "Mobile Suit Gundam Seed Freedom\n",
      "Abigail\n",
      "A Strange House\n",
      "The Master and Margarita\n",
      "Doraemon the Movie: Nobita's Earth Symphony\n",
      "Challengers\n",
      "Wicked Little Letters\n",
      "Chantal in Fairyland\n",
      "Immaculate\n",
      "Mai\n",
      "Autumn and the Black Jaguar\n",
      "Lyod 3\n",
      "Cabrini\n",
      "Ordinary Angels\n",
      "Golden Kamuy\n",
      "Cocorico\n",
      "Back to Black\n",
      "The Ministry of Ungentlemanly Warfare\n",
      "Kleks Academy\n",
      "The Chosen: S4 Episodes 1-3\n",
      "Citizen of a Kind\n",
      "Maison de retraite 2\n",
      "Eine Million Minuten\n",
      "Article 370\n",
      "Late Night with the Devil\n",
      "Letuchiy korabl\n",
      "Alienoid: The Return to the Future\n",
      "Cat and Dog\n",
      "Lisa Frankenstein\n",
      "The Chosen: S4 Episodes 4-6\n",
      "Love Lies Bleeding\n",
      "Lohusa\n",
      "The Fall Guy\n",
      "Onegin\n",
      "The Birth of Korea\n",
      "The Chosen: S4 Episodes 7-8\n",
      "Unsung Hero\n",
      "Kolpaçino 4 4'lük\n",
      "Yolo\n",
      "Drive-Away Dolls\n",
      "Troll Factory\n",
      "April, Come She Will\n",
      "I.S.S.\n",
      "Land of Bad\n",
      "Un mondo a parte\n",
      "Baghead\n",
      "The Book of Clarence\n",
      "SUGA: Agust D Tour 'D-DAY' the Movie\n",
      "Someone Like You\n",
      "Air\n",
      "Matching\n",
      "Force of Nature: The Dry 2\n",
      "The Goat Life\n",
      "Table for Six 2\n",
      "Anweshippin Kandethum\n",
      "Sami Swoi. Poczatek\n",
      "El Roomie\n",
      "No Way Up\n",
      "I soliti idioti 3: Il ritorno\n",
      "Ducobu passe au vert!\n",
      "Dune 2024 Re-release\n",
      "Crew\n",
      "La familia Benetón\n",
      "Fighter\n",
      "Manjummel Boys\n",
      "Gap Lai Chi Bau\n",
      "Daaaaaali!\n",
      "Breaking Point\n",
      "The Moon Thieves\n",
      "3391 Kilometres\n",
      "Peppa's Cinema Party\n",
      "Pare parecchio Parigi\n",
      "Konets Slavy\n",
      "Guest from the Future\n",
      "Shrek 2 2024 Re-release\n",
      "Lovesick Ellie\n",
      "Baby boom, or Eggnog 5\n",
      "Lucky Winners\n",
      "2024 Oscar Nominated Short Films: Documentary\n",
      "Boléro\n",
      "Budda. Dzieciak '98\n",
      "Verliefd op Bali\n",
      "Blue Lock: Episode Nagi\n",
      "Maria Montessori\n",
      "Kensuke's Kingdom\n",
      "Noah's Ark\n",
      "Aavesham\n",
      "The Good Teacher\n",
      "The Long Game\n",
      "Silent Love\n",
      "Rob N Roll\n",
      "Noche De Bodas\n",
      "Detective Conan vs. Kid the Phantom Thief\n",
      "Too Old for Fairy Tales 2\n",
      "All the Long Nights\n",
      "Dog Days\n",
      "Operation Portugal 2 - La vie de chateau\n",
      "Queen Rock Montreal\n",
      "Meet the Leroys\n",
      "We 12\n",
      "The American Society of Magical Negroes\n",
      "Coppers\n",
      "National Theatre Live: Vanya\n",
      "50 km/h\n",
      "Bade Miyan Chote Miyan\n",
      "Kral Sakir: Devler Uyandi\n",
      "14 jours pour aller mieux\n",
      "Premalu\n",
      "Tati Part Time\n",
      "White Bird\n",
      "Bonnard: Pierre & Marthe\n",
      "The Green Deal\n",
      "Picnic\n",
      "Atatürk 1881 - 1919 Film 2 Release\n",
      "Tillu Square\n",
      "It's Raining Men\n",
      "Varshangalkku Shesham\n",
      "Don't Lose Your Head!\n",
      "Todas menos tú\n",
      "Columbia 100th Anniversary Series Columbia 100th Anniversary Series\n",
      "The Ark and the Darkness\n",
      "Race for Glory: Audi vs. Lancia\n",
      "Homeward\n",
      "Aristokratka ve varu\n",
      "Out of Darkness\n",
      "Nedelja\n",
      "Salle des profs\n",
      "YA - medved\n",
      "Et plus si affinités\n",
      "Un altro Ferragosto\n",
      "Love You as the World Ends: Episode #4.5\n",
      "Komandir\n",
      "Valle de sombras\n",
      "Adam & Eve\n",
      "El correo\n",
      "Kardes Takimi\n",
      "La ferme des Bertrand\n",
      "Teri Baaton Mein Aisa Uljha Jiya\n",
      "Dead Man\n",
      "Like a Prince\n",
      "Boy Kills World\n",
      "Onmyoji Zero\n",
      "Madame de Sévigné\n",
      "I Did It My Way\n",
      "Mothers' Instinct\n",
      "Alien 2024 Re-release\n",
      "A Silence\n",
      "18×2 Beyond Youthful Days\n",
      "Romeo è Giulietta\n",
      "Dune IMAX\n",
      "The Promised Land\n",
      "Let's Go Karaoke!\n",
      "Shaitaan\n",
      "National Theatre Live: Dear England\n",
      "Off-Season\n",
      "Matka v trapu\n",
      "Sleeping Dogs\n",
      "Firebrand\n",
      "Miller's Girl\n",
      "Pozyvnoy «Passazhir»\n",
      "Karaoké\n",
      "Irklais per Atlanta\n",
      "Bramayugam\n",
      "Sladky zivot\n",
      "White Courage\n",
      "Les chèvres!\n",
      "National Theatre Live: The Motive and the Cue\n",
      "Neon Genesis Evangelion: The End of Evangelion\n",
      "A Nice Jewish Boy\n",
      "Making Of\n",
      "Color of Victory\n",
      "Enea\n",
      "Unknown Title\n",
      "Dieci minuti\n",
      "Políticamente incorrectos\n",
      "Ibelin\n",
      "This is My Mother\n",
      "Sting\n",
      "Vojna policajtov\n",
      "Fuks 2\n",
      "Operation Valentine\n"
     ]
    }
   ],
   "source": [
    "for i in range(1,201):\n",
    "    name = rows[i].findAll('td')[1].text\n",
    "    budget = rows[i].findAll('td')[1].text\n",
    "    print(name)"
   ]
  },
  {
   "cell_type": "markdown",
   "metadata": {},
   "source": [
    "Do the scrapping process here \n",
    "\n",
    "Melakukan proses extract data dengan menggunakan kode di bawah ini, sehingga mendapatkan output berupa Series yang berisi data dari kolom Rank, Release Group, Worldwide, Domestic dan Foreign.\n",
    "\n",
    "\n",
    "> You can use a for loop to perform the scraping process in various ways depending on the HTML structure of the website you want to scrap and the information you want to retrieve."
   ]
  },
  {
   "cell_type": "code",
   "execution_count": 10,
   "metadata": {
    "ExecuteTime": {
     "end_time": "2020-01-13T05:12:24.008256Z",
     "start_time": "2020-01-13T05:12:23.980358Z"
    }
   },
   "outputs": [
    {
     "data": {
      "text/plain": [
       "[('1', 'Dune: Part Two', '$704,242,968', '$279,742,968', '$424,500,000'),\n",
       " ('2',\n",
       "  'Godzilla x Kong: The New Empire',\n",
       "  '$519,380,032',\n",
       "  '$181,680,032',\n",
       "  '$337,700,000'),\n",
       " ('3', 'Kung Fu Panda 4', '$503,540,090', '$184,999,090', '$318,541,000'),\n",
       " ('4',\n",
       "  'Ghostbusters: Frozen Empire',\n",
       "  '$187,987,915',\n",
       "  '$107,387,915',\n",
       "  '$80,600,000'),\n",
       " ('5', 'Bob Marley: One Love', '$177,193,170', '$96,893,170', '$80,300,000'),\n",
       " ('6', 'The Beekeeper', '$152,720,535', '$66,220,535', '$86,500,000'),\n",
       " ('7', 'Mean Girls', '$104,404,248', '$72,404,248', '$32,000,000'),\n",
       " ('8', 'Madame Web', '$100,298,817', '$43,817,106', '$56,481,711'),\n",
       " ('9', 'Argylle', '$96,170,413', '$45,207,275', '$50,963,138'),\n",
       " ('10', 'Exhuma', '$95,019,488', '$2,148,446', '$92,871,042'),\n",
       " ('11', 'Civil War', '$71,610,099', '$56,194,933', '$15,415,166'),\n",
       " ('12', 'Haikyuu!! The Dumpster Battle', '$64,265,198', '-', '$64,265,198'),\n",
       " ('13', 'Night Swim', '$54,075,969', '$32,494,740', '$21,581,229'),\n",
       " ('14', 'The First Omen', '$50,248,646', '$19,248,646', '$31,000,000'),\n",
       " ('15',\n",
       "  'Demon Slayer: Kimetsu No Yaiba - To the Hashira Training',\n",
       "  '$44,327,701',\n",
       "  '$17,657,658',\n",
       "  '$26,670,043'),\n",
       " ('16',\n",
       "  'Detective Conan: The Million-Dollar Pentagram',\n",
       "  '$42,144,197',\n",
       "  '-',\n",
       "  '$42,144,197'),\n",
       " ('17', 'Imaginary', '$38,994,631', '$28,009,161', '$10,985,470'),\n",
       " ('18', 'Monkey Man', '$31,740,990', '$23,916,990', '$7,824,000'),\n",
       " ('19', 'Arthur the King', '$31,649,885', '$24,870,172', '$6,779,713'),\n",
       " ('20', 'Mobile Suit Gundam Seed Freedom', '$29,554,743', '-', '$29,554,743'),\n",
       " ('21', 'Abigail', '$28,637,755', '$18,787,755', '$9,850,000'),\n",
       " ('22', 'A Strange House', '$26,682,809', '-', '$26,682,809'),\n",
       " ('23', 'The Master and Margarita', '$26,152,311', '-', '$26,152,311'),\n",
       " ('24',\n",
       "  \"Doraemon the Movie: Nobita's Earth Symphony\",\n",
       "  '$25,281,429',\n",
       "  '-',\n",
       "  '$25,281,429'),\n",
       " ('25', 'Challengers', '$25,011,078', '$15,011,078', '$10,000,000'),\n",
       " ('26', 'Wicked Little Letters', '$22,459,603', '$4,026,627', '$18,432,976'),\n",
       " ('27', 'Chantal in Fairyland', '$22,140,760', '-', '$22,140,760'),\n",
       " ('28', 'Immaculate', '$21,936,957', '$15,662,265', '$6,274,692'),\n",
       " ('29', 'Mai', '$21,714,524', '-', '$21,714,524'),\n",
       " ('30', 'Autumn and the Black Jaguar', '$21,392,778', '-', '$21,392,778'),\n",
       " ('31', 'Lyod 3', '$20,615,744', '-', '$20,615,744'),\n",
       " ('32', 'Cabrini', '$20,157,935', '$19,413,718', '$744,217'),\n",
       " ('33', 'Ordinary Angels', '$19,454,580', '$19,174,421', '$280,159'),\n",
       " ('34', 'Golden Kamuy', '$19,077,748', '-', '$19,077,748'),\n",
       " ('35', 'Cocorico', '$17,266,172', '-', '$17,266,172'),\n",
       " ('36', 'Back to Black', '$15,958,095', '-', '$15,958,095'),\n",
       " ('37',\n",
       "  'The Ministry of Ungentlemanly Warfare',\n",
       "  '$15,915,998',\n",
       "  '$15,448,667',\n",
       "  '$467,331'),\n",
       " ('38', 'Kleks Academy', '$15,348,026', '-', '$15,348,026'),\n",
       " ('39',\n",
       "  'The Chosen: S4 Episodes 1-3',\n",
       "  '$14,799,620',\n",
       "  '$14,409,169',\n",
       "  '$390,451'),\n",
       " ('40', 'Citizen of a Kind', '$12,494,455', '-', '$12,494,455'),\n",
       " ('41', 'Maison de retraite 2', '$11,196,943', '-', '$11,196,943'),\n",
       " ('42', 'Eine Million Minuten', '$11,077,140', '-', '$11,077,140'),\n",
       " ('43', 'Article 370', '$11,073,822', '$980,649', '$10,093,173'),\n",
       " ('44',\n",
       "  'Late Night with the Devil',\n",
       "  '$10,897,226',\n",
       "  '$9,848,565',\n",
       "  '$1,048,661'),\n",
       " ('45', 'Letuchiy korabl', '$10,834,343', '-', '$10,834,343'),\n",
       " ('46',\n",
       "  'Alienoid: The Return to the Future',\n",
       "  '$10,693,858',\n",
       "  '$60,720',\n",
       "  '$10,633,138'),\n",
       " ('47', 'Cat and Dog', '$10,624,242', '-', '$10,624,242'),\n",
       " ('48', 'Lisa Frankenstein', '$9,927,714', '$9,774,285', '$153,429'),\n",
       " ('49', 'The Chosen: S4 Episodes 4-6', '$9,482,744', '$9,482,744', '-'),\n",
       " ('50', 'Love Lies Bleeding', '$8,770,948', '$7,830,385', '$940,563'),\n",
       " ('51', 'Lohusa', '$8,701,733', '-', '$8,701,733'),\n",
       " ('52', 'The Fall Guy', '$8,651,000', '-', '$8,651,000'),\n",
       " ('53', 'Onegin', '$8,481,968', '-', '$8,481,968'),\n",
       " ('54', 'The Birth of Korea', '$8,050,507', '-', '$8,050,507'),\n",
       " ('55', 'The Chosen: S4 Episodes 7-8', '$7,753,589', '$7,729,152', '$24,437'),\n",
       " ('56', 'Unsung Hero', '$7,750,000', '$7,750,000', '-'),\n",
       " ('57', \"Kolpaçino 4 4'lük\", '$7,445,372', '-', '$7,445,372'),\n",
       " ('58', 'Yolo', '$7,040,094', '$2,001,584', '$5,038,510'),\n",
       " ('59', 'Drive-Away Dolls', '$6,826,057', '$5,028,215', '$1,797,842'),\n",
       " ('60', 'Troll Factory', '$6,671,112', '-', '$6,671,112'),\n",
       " ('61', 'April, Come She Will', '$6,660,318', '-', '$6,660,318'),\n",
       " ('62', 'I.S.S.', '$6,573,799', '$6,573,799', '-'),\n",
       " ('63', 'Land of Bad', '$6,532,018', '$4,620,045', '$1,911,973'),\n",
       " ('64', 'Un mondo a parte', '$6,463,642', '-', '$6,463,642'),\n",
       " ('65', 'Baghead', '$6,422,416', '-', '$6,422,416'),\n",
       " ('66', 'The Book of Clarence', '$6,177,661', '$6,132,813', '$44,848'),\n",
       " ('67',\n",
       "  \"SUGA: Agust D Tour 'D-DAY' the Movie\",\n",
       "  '$6,014,116',\n",
       "  '$1,951,896',\n",
       "  '$4,062,220'),\n",
       " ('68', 'Someone Like You', '$5,805,631', '$5,805,631', '-'),\n",
       " ('69', 'Air', '$5,468,936', '-', '$5,468,936'),\n",
       " ('70', 'Matching', '$5,348,492', '-', '$5,348,492'),\n",
       " ('71', 'Force of Nature: The Dry 2', '$5,346,224', '-', '$5,346,224'),\n",
       " ('72', 'The Goat Life', '$5,080,618', '$625,000', '$4,455,618'),\n",
       " ('73', 'Table for Six 2', '$4,871,447', '-', '$4,871,447'),\n",
       " ('74', 'Anweshippin Kandethum', '$4,459,155', '-', '$4,459,155'),\n",
       " ('75', 'Sami Swoi. Poczatek', '$4,433,525', '-', '$4,433,525'),\n",
       " ('76', 'El Roomie', '$4,418,253', '-', '$4,418,253'),\n",
       " ('77', 'No Way Up', '$4,370,625', '$148,582', '$4,222,043'),\n",
       " ('78', 'I soliti idioti 3: Il ritorno', '$4,174,340', '-', '$4,174,340'),\n",
       " ('79', 'Ducobu passe au vert!', '$4,168,090', '-', '$4,168,090'),\n",
       " ('80', 'Dune 2024 Re-release', '$3,995,610', '-', '$3,995,610'),\n",
       " ('81', 'Crew', '$3,893,163', '$1,500,000', '$2,393,163'),\n",
       " ('82', 'La familia Benetón', '$3,881,074', '-', '$3,881,074'),\n",
       " ('83', 'Fighter', '$3,800,771', '$1,000,000', '$2,800,771'),\n",
       " ('84', 'Manjummel Boys', '$3,784,106', '-', '$3,784,106'),\n",
       " ('85', 'Gap Lai Chi Bau', '$3,749,297', '-', '$3,749,297'),\n",
       " ('86', 'Daaaaaali!', '$3,696,469', '-', '$3,696,469'),\n",
       " ('87', 'Breaking Point', '$3,532,131', '-', '$3,532,131'),\n",
       " ('88', 'The Moon Thieves', '$3,522,654', '-', '$3,522,654'),\n",
       " ('89', '3391 Kilometres', '$3,506,051', '-', '$3,506,051'),\n",
       " ('90', \"Peppa's Cinema Party\", '$3,473,576', '-', '$3,473,576'),\n",
       " ('91', 'Pare parecchio Parigi', '$3,445,925', '-', '$3,445,925'),\n",
       " ('92', 'Konets Slavy', '$3,387,736', '-', '$3,387,736'),\n",
       " ('93', 'Guest from the Future', '$3,387,564', '-', '$3,387,564'),\n",
       " ('94', 'Shrek 2 2024 Re-release', '$3,371,695', '$3,371,695', '-'),\n",
       " ('95', 'Lovesick Ellie', '$3,365,139', '-', '$3,365,139'),\n",
       " ('96', 'Baby boom, or Eggnog 5', '$3,236,512', '-', '$3,236,512'),\n",
       " ('97', 'Lucky Winners', '$3,184,504', '-', '$3,184,504'),\n",
       " ('98',\n",
       "  '2024 Oscar Nominated Short Films: Documentary',\n",
       "  '$3,162,293',\n",
       "  '$3,162,293',\n",
       "  '-'),\n",
       " ('99', 'Boléro', '$3,117,851', '-', '$3,117,851'),\n",
       " ('100', \"Budda. Dzieciak '98\", '$3,085,668', '-', '$3,085,668'),\n",
       " ('101', 'Verliefd op Bali', '$3,069,304', '-', '$3,069,304'),\n",
       " ('102', 'Blue Lock: Episode Nagi', '$3,000,311', '-', '$3,000,311'),\n",
       " ('103', 'Maria Montessori', '$2,925,359', '-', '$2,925,359'),\n",
       " ('104', \"Kensuke's Kingdom\", '$2,919,215', '-', '$2,919,215'),\n",
       " ('105', \"Noah's Ark\", '$2,853,101', '-', '$2,853,101'),\n",
       " ('106', 'Aavesham', '$2,838,735', '-', '$2,838,735'),\n",
       " ('107', 'The Good Teacher', '$2,766,648', '-', '$2,766,648'),\n",
       " ('108', 'The Long Game', '$2,764,176', '$2,764,176', '-'),\n",
       " ('109', 'Silent Love', '$2,739,320', '-', '$2,739,320'),\n",
       " ('110', 'Rob N Roll', '$2,739,036', '-', '$2,739,036'),\n",
       " ('111', 'Noche De Bodas', '$2,734,739', '-', '$2,734,739'),\n",
       " ('112',\n",
       "  'Detective Conan vs. Kid the Phantom Thief',\n",
       "  '$2,727,664',\n",
       "  '-',\n",
       "  '$2,727,664'),\n",
       " ('113', 'Too Old for Fairy Tales 2', '$2,704,435', '-', '$2,704,435'),\n",
       " ('114', 'All the Long Nights', '$2,689,624', '-', '$2,689,624'),\n",
       " ('115', 'Dog Days', '$2,658,318', '-', '$2,658,318'),\n",
       " ('116',\n",
       "  'Operation Portugal 2 - La vie de chateau',\n",
       "  '$2,569,348',\n",
       "  '-',\n",
       "  '$2,569,348'),\n",
       " ('117', 'Queen Rock Montreal', '$2,537,304', '$2,000,000', '$537,304'),\n",
       " ('118', 'Meet the Leroys', '$2,526,302', '-', '$2,526,302'),\n",
       " ('119', 'We 12', '$2,491,117', '-', '$2,491,117'),\n",
       " ('120',\n",
       "  'The American Society of Magical Negroes',\n",
       "  '$2,480,645',\n",
       "  '$2,480,645',\n",
       "  '-'),\n",
       " ('121', 'Coppers', '$2,462,266', '-', '$2,462,266'),\n",
       " ('122', 'National Theatre Live: Vanya', '$2,453,069', '-', '$2,453,069'),\n",
       " ('123', '50 km/h', '$2,448,552', '-', '$2,448,552'),\n",
       " ('124', 'Bade Miyan Chote Miyan', '$2,443,911', '$689,505', '$1,754,406'),\n",
       " ('125', 'Kral Sakir: Devler Uyandi', '$2,433,892', '-', '$2,433,892'),\n",
       " ('126', '14 jours pour aller mieux', '$2,357,682', '-', '$2,357,682'),\n",
       " ('127', 'Premalu', '$2,342,985', '-', '$2,342,985'),\n",
       " ('128', 'Tati Part Time', '$2,332,477', '-', '$2,332,477'),\n",
       " ('129', 'White Bird', '$2,326,201', '-', '$2,326,201'),\n",
       " ('130', 'Bonnard: Pierre & Marthe', '$2,311,172', '-', '$2,311,172'),\n",
       " ('131', 'The Green Deal', '$2,269,386', '-', '$2,269,386'),\n",
       " ('132', 'Picnic', '$2,256,981', '-', '$2,256,981'),\n",
       " ('133',\n",
       "  'Atatürk 1881 - 1919 Film 2 Release',\n",
       "  '$2,256,587',\n",
       "  '-',\n",
       "  '$2,256,587'),\n",
       " ('134', 'Tillu Square', '$2,246,550', '$1,870,000', '$376,550'),\n",
       " ('135', \"It's Raining Men\", '$2,211,183', '-', '$2,211,183'),\n",
       " ('136', 'Varshangalkku Shesham', '$2,158,590', '-', '$2,158,590'),\n",
       " ('137', \"Don't Lose Your Head!\", '$2,113,320', '-', '$2,113,320'),\n",
       " ('138', 'Todas menos tú', '$2,110,306', '-', '$2,110,306'),\n",
       " ('139',\n",
       "  'Columbia 100th Anniversary Series Columbia 100th Anniversary Series',\n",
       "  '$2,108,352',\n",
       "  '$2,108,352',\n",
       "  '-'),\n",
       " ('140', 'The Ark and the Darkness', '$2,097,560', '$2,097,560', '-'),\n",
       " ('141', 'Race for Glory: Audi vs. Lancia', '$2,083,383', '-', '$2,083,383'),\n",
       " ('142', 'Homeward', '$2,072,695', '-', '$2,072,695'),\n",
       " ('143', 'Aristokratka ve varu', '$2,035,808', '-', '$2,035,808'),\n",
       " ('144', 'Out of Darkness', '$1,987,281', '$1,951,547', '$35,734'),\n",
       " ('145', 'Nedelja', '$1,905,017', '-', '$1,905,017'),\n",
       " ('146', 'Salle des profs', '$1,855,403', '-', '$1,855,403'),\n",
       " ('147', 'YA - medved', '$1,842,294', '-', '$1,842,294'),\n",
       " ('148', 'Et plus si affinités', '$1,836,556', '-', '$1,836,556'),\n",
       " ('149', 'Un altro Ferragosto', '$1,816,797', '-', '$1,816,797'),\n",
       " ('150',\n",
       "  'Love You as the World Ends: Episode #4.5',\n",
       "  '$1,814,466',\n",
       "  '-',\n",
       "  '$1,814,466'),\n",
       " ('151', 'Komandir', '$1,808,588', '-', '$1,808,588'),\n",
       " ('152', 'Valle de sombras', '$1,805,813', '-', '$1,805,813'),\n",
       " ('153', 'Adam & Eve', '$1,752,038', '-', '$1,752,038'),\n",
       " ('154', 'El correo', '$1,751,343', '-', '$1,751,343'),\n",
       " ('155', 'Kardes Takimi', '$1,748,615', '-', '$1,748,615'),\n",
       " ('156', 'La ferme des Bertrand', '$1,719,910', '-', '$1,719,910'),\n",
       " ('157', 'Teri Baaton Mein Aisa Uljha Jiya', '$1,699,722', '-', '$1,699,722'),\n",
       " ('158', 'Dead Man', '$1,689,878', '-', '$1,689,878'),\n",
       " ('159', 'Like a Prince', '$1,681,549', '-', '$1,681,549'),\n",
       " ('160', 'Boy Kills World', '$1,675,475', '$1,675,475', '-'),\n",
       " ('161', 'Onmyoji Zero', '$1,651,827', '-', '$1,651,827'),\n",
       " ('162', 'Madame de Sévigné', '$1,640,410', '-', '$1,640,410'),\n",
       " ('163', 'I Did It My Way', '$1,628,896', '$198,405', '$1,430,491'),\n",
       " ('164', \"Mothers' Instinct\", '$1,606,319', '-', '$1,606,319'),\n",
       " ('165', 'Alien 2024 Re-release', '$1,563,000', '$1,563,000', '-'),\n",
       " ('166', 'A Silence', '$1,562,685', '-', '$1,562,685'),\n",
       " ('167', '18×2 Beyond Youthful Days', '$1,556,999', '-', '$1,556,999'),\n",
       " ('168', 'Romeo è Giulietta', '$1,555,180', '-', '$1,555,180'),\n",
       " ('169', 'Dune IMAX', '$1,550,188', '$570,000', '$980,188'),\n",
       " ('170', 'The Promised Land', '$1,511,719', '$257,749', '$1,253,970'),\n",
       " ('171', \"Let's Go Karaoke!\", '$1,510,372', '-', '$1,510,372'),\n",
       " ('172', 'Shaitaan', '$1,501,788', '-', '$1,501,788'),\n",
       " ('173',\n",
       "  'National Theatre Live: Dear England',\n",
       "  '$1,485,050',\n",
       "  '-',\n",
       "  '$1,485,050'),\n",
       " ('174', 'Off-Season', '$1,481,675', '-', '$1,481,675'),\n",
       " ('175', 'Matka v trapu', '$1,477,538', '-', '$1,477,538'),\n",
       " ('176', 'Sleeping Dogs', '$1,458,885', '-', '$1,458,885'),\n",
       " ('177', 'Firebrand', '$1,439,516', '-', '$1,439,516'),\n",
       " ('178', \"Miller's Girl\", '$1,431,190', '-', '$1,431,190'),\n",
       " ('179', 'Pozyvnoy «Passazhir»', '$1,405,286', '-', '$1,405,286'),\n",
       " ('180', 'Karaoké', '$1,404,406', '-', '$1,404,406'),\n",
       " ('181', 'Irklais per Atlanta', '$1,394,826', '-', '$1,394,826'),\n",
       " ('182', 'Bramayugam', '$1,388,375', '-', '$1,388,375'),\n",
       " ('183', 'Sladky zivot', '$1,377,407', '-', '$1,377,407'),\n",
       " ('184', 'White Courage', '$1,373,237', '-', '$1,373,237'),\n",
       " ('185', 'Les chèvres!', '$1,317,742', '-', '$1,317,742'),\n",
       " ('186',\n",
       "  'National Theatre Live: The Motive and the Cue',\n",
       "  '$1,312,531',\n",
       "  '-',\n",
       "  '$1,312,531'),\n",
       " ('187',\n",
       "  'Neon Genesis Evangelion: The End of Evangelion',\n",
       "  '$1,302,300',\n",
       "  '$1,302,300',\n",
       "  '-'),\n",
       " ('188', 'A Nice Jewish Boy', '$1,267,653', '-', '$1,267,653'),\n",
       " ('189', 'Making Of', '$1,261,221', '-', '$1,261,221'),\n",
       " ('190', 'Color of Victory', '$1,260,020', '-', '$1,260,020'),\n",
       " ('191', 'Enea', '$1,241,570', '-', '$1,241,570'),\n",
       " ('192', 'Unknown Title', '$1,222,901', '-', '$1,222,901'),\n",
       " ('193', 'Dieci minuti', '$1,147,973', '-', '$1,147,973'),\n",
       " ('194', 'Políticamente incorrectos', '$1,142,279', '-', '$1,142,279'),\n",
       " ('195', 'Ibelin', '$1,124,687', '-', '$1,124,687'),\n",
       " ('196', 'This is My Mother', '$1,113,611', '-', '$1,113,611'),\n",
       " ('197', 'Sting', '$1,090,798', '$1,090,798', '-'),\n",
       " ('198', 'Vojna policajtov', '$1,087,016', '-', '$1,087,016'),\n",
       " ('199', 'Fuks 2', '$1,078,203', '-', '$1,078,203'),\n",
       " ('200', 'Operation Valentine', '$1,076,193', '-', '$1,076,193')]"
      ]
     },
     "execution_count": 10,
     "metadata": {},
     "output_type": "execute_result"
    }
   ],
   "source": [
    "temp = []  # Initiating a tuple\n",
    "\n",
    "for i in range(1, 201):\n",
    "\n",
    "    # get rank\n",
    "    rank = rows[i].findAll('td')[0].text\n",
    "\n",
    "    # get release group\n",
    "    release_group = rows[i].findAll('td')[1].text\n",
    "\n",
    "    # get worldwide\n",
    "    worldwide = rows[i].findAll('td')[2].text\n",
    "\n",
    "    # get domestic\n",
    "    domestic = rows[i].findAll('td')[3].text\n",
    "    \n",
    "    # get foreign\n",
    "    foreign = rows[i].findAll('td')[5].text\n",
    "\n",
    "    temp.append((rank, release_group, worldwide, domestic, foreign))\n",
    "    \n",
    "temp"
   ]
  },
  {
   "cell_type": "markdown",
   "metadata": {},
   "source": [
    "Note: You can customize the code inside the loop according to your needs to extract the desired information from the website you scrap. Make sure to check and adjust the code well to suit the HTML structure and information you want to retrieve."
   ]
  },
  {
   "cell_type": "markdown",
   "metadata": {},
   "source": [
    "## Creating data frame & Data wrangling"
   ]
  },
  {
   "cell_type": "markdown",
   "metadata": {},
   "source": [
    "Once we have extracted the data, we can put it into a dataframe."
   ]
  },
  {
   "cell_type": "code",
   "execution_count": 11,
   "metadata": {
    "ExecuteTime": {
     "end_time": "2020-01-13T05:12:41.517372Z",
     "start_time": "2020-01-13T05:12:29.130015Z"
    }
   },
   "outputs": [
    {
     "data": {
      "text/html": [
       "<div>\n",
       "<style scoped>\n",
       "    .dataframe tbody tr th:only-of-type {\n",
       "        vertical-align: middle;\n",
       "    }\n",
       "\n",
       "    .dataframe tbody tr th {\n",
       "        vertical-align: top;\n",
       "    }\n",
       "\n",
       "    .dataframe thead th {\n",
       "        text-align: right;\n",
       "    }\n",
       "</style>\n",
       "<table border=\"1\" class=\"dataframe\">\n",
       "  <thead>\n",
       "    <tr style=\"text-align: right;\">\n",
       "      <th></th>\n",
       "      <th>rank</th>\n",
       "      <th>release_group</th>\n",
       "      <th>worldwide</th>\n",
       "      <th>domestic</th>\n",
       "      <th>foreign</th>\n",
       "    </tr>\n",
       "  </thead>\n",
       "  <tbody>\n",
       "    <tr>\n",
       "      <th>0</th>\n",
       "      <td>1</td>\n",
       "      <td>Dune: Part Two</td>\n",
       "      <td>$704,242,968</td>\n",
       "      <td>$279,742,968</td>\n",
       "      <td>$424,500,000</td>\n",
       "    </tr>\n",
       "    <tr>\n",
       "      <th>1</th>\n",
       "      <td>2</td>\n",
       "      <td>Godzilla x Kong: The New Empire</td>\n",
       "      <td>$519,380,032</td>\n",
       "      <td>$181,680,032</td>\n",
       "      <td>$337,700,000</td>\n",
       "    </tr>\n",
       "    <tr>\n",
       "      <th>2</th>\n",
       "      <td>3</td>\n",
       "      <td>Kung Fu Panda 4</td>\n",
       "      <td>$503,540,090</td>\n",
       "      <td>$184,999,090</td>\n",
       "      <td>$318,541,000</td>\n",
       "    </tr>\n",
       "    <tr>\n",
       "      <th>3</th>\n",
       "      <td>4</td>\n",
       "      <td>Ghostbusters: Frozen Empire</td>\n",
       "      <td>$187,987,915</td>\n",
       "      <td>$107,387,915</td>\n",
       "      <td>$80,600,000</td>\n",
       "    </tr>\n",
       "    <tr>\n",
       "      <th>4</th>\n",
       "      <td>5</td>\n",
       "      <td>Bob Marley: One Love</td>\n",
       "      <td>$177,193,170</td>\n",
       "      <td>$96,893,170</td>\n",
       "      <td>$80,300,000</td>\n",
       "    </tr>\n",
       "  </tbody>\n",
       "</table>\n",
       "</div>"
      ],
      "text/plain": [
       "  rank                    release_group     worldwide      domestic  \\\n",
       "0    1                   Dune: Part Two  $704,242,968  $279,742,968   \n",
       "1    2  Godzilla x Kong: The New Empire  $519,380,032  $181,680,032   \n",
       "2    3                  Kung Fu Panda 4  $503,540,090  $184,999,090   \n",
       "3    4      Ghostbusters: Frozen Empire  $187,987,915  $107,387,915   \n",
       "4    5             Bob Marley: One Love  $177,193,170   $96,893,170   \n",
       "\n",
       "        foreign  \n",
       "0  $424,500,000  \n",
       "1  $337,700,000  \n",
       "2  $318,541,000  \n",
       "3   $80,600,000  \n",
       "4   $80,300,000  "
      ]
     },
     "execution_count": 11,
     "metadata": {},
     "output_type": "execute_result"
    }
   ],
   "source": [
    "import pandas as pd\n",
    "\n",
    "df = pd.DataFrame(temp, columns = ('rank', 'release_group', 'worldwide', 'domestic', 'foreign'))\n",
    "df.head()"
   ]
  },
  {
   "cell_type": "code",
   "execution_count": 12,
   "metadata": {},
   "outputs": [
    {
     "data": {
      "text/plain": [
       "rank             object\n",
       "release_group    object\n",
       "worldwide        object\n",
       "domestic         object\n",
       "foreign          object\n",
       "dtype: object"
      ]
     },
     "execution_count": 12,
     "metadata": {},
     "output_type": "execute_result"
    }
   ],
   "source": [
    "df.dtypes"
   ]
  },
  {
   "cell_type": "code",
   "execution_count": 13,
   "metadata": {},
   "outputs": [
    {
     "data": {
      "text/html": [
       "<div>\n",
       "<style scoped>\n",
       "    .dataframe tbody tr th:only-of-type {\n",
       "        vertical-align: middle;\n",
       "    }\n",
       "\n",
       "    .dataframe tbody tr th {\n",
       "        vertical-align: top;\n",
       "    }\n",
       "\n",
       "    .dataframe thead th {\n",
       "        text-align: right;\n",
       "    }\n",
       "</style>\n",
       "<table border=\"1\" class=\"dataframe\">\n",
       "  <thead>\n",
       "    <tr style=\"text-align: right;\">\n",
       "      <th></th>\n",
       "      <th>rank</th>\n",
       "      <th>release_group</th>\n",
       "      <th>worldwide</th>\n",
       "      <th>domestic</th>\n",
       "      <th>foreign</th>\n",
       "    </tr>\n",
       "  </thead>\n",
       "  <tbody>\n",
       "    <tr>\n",
       "      <th>0</th>\n",
       "      <td>1</td>\n",
       "      <td>Dune: Part Two</td>\n",
       "      <td>$704,242,968</td>\n",
       "      <td>$279,742,968</td>\n",
       "      <td>$424,500,000</td>\n",
       "    </tr>\n",
       "    <tr>\n",
       "      <th>1</th>\n",
       "      <td>2</td>\n",
       "      <td>Godzilla x Kong: The New Empire</td>\n",
       "      <td>$519,380,032</td>\n",
       "      <td>$181,680,032</td>\n",
       "      <td>$337,700,000</td>\n",
       "    </tr>\n",
       "    <tr>\n",
       "      <th>2</th>\n",
       "      <td>3</td>\n",
       "      <td>Kung Fu Panda 4</td>\n",
       "      <td>$503,540,090</td>\n",
       "      <td>$184,999,090</td>\n",
       "      <td>$318,541,000</td>\n",
       "    </tr>\n",
       "    <tr>\n",
       "      <th>3</th>\n",
       "      <td>4</td>\n",
       "      <td>Ghostbusters: Frozen Empire</td>\n",
       "      <td>$187,987,915</td>\n",
       "      <td>$107,387,915</td>\n",
       "      <td>$80,600,000</td>\n",
       "    </tr>\n",
       "    <tr>\n",
       "      <th>4</th>\n",
       "      <td>5</td>\n",
       "      <td>Bob Marley: One Love</td>\n",
       "      <td>$177,193,170</td>\n",
       "      <td>$96,893,170</td>\n",
       "      <td>$80,300,000</td>\n",
       "    </tr>\n",
       "    <tr>\n",
       "      <th>...</th>\n",
       "      <td>...</td>\n",
       "      <td>...</td>\n",
       "      <td>...</td>\n",
       "      <td>...</td>\n",
       "      <td>...</td>\n",
       "    </tr>\n",
       "    <tr>\n",
       "      <th>195</th>\n",
       "      <td>196</td>\n",
       "      <td>This is My Mother</td>\n",
       "      <td>$1,113,611</td>\n",
       "      <td>-</td>\n",
       "      <td>$1,113,611</td>\n",
       "    </tr>\n",
       "    <tr>\n",
       "      <th>196</th>\n",
       "      <td>197</td>\n",
       "      <td>Sting</td>\n",
       "      <td>$1,090,798</td>\n",
       "      <td>$1,090,798</td>\n",
       "      <td>-</td>\n",
       "    </tr>\n",
       "    <tr>\n",
       "      <th>197</th>\n",
       "      <td>198</td>\n",
       "      <td>Vojna policajtov</td>\n",
       "      <td>$1,087,016</td>\n",
       "      <td>-</td>\n",
       "      <td>$1,087,016</td>\n",
       "    </tr>\n",
       "    <tr>\n",
       "      <th>198</th>\n",
       "      <td>199</td>\n",
       "      <td>Fuks 2</td>\n",
       "      <td>$1,078,203</td>\n",
       "      <td>-</td>\n",
       "      <td>$1,078,203</td>\n",
       "    </tr>\n",
       "    <tr>\n",
       "      <th>199</th>\n",
       "      <td>200</td>\n",
       "      <td>Operation Valentine</td>\n",
       "      <td>$1,076,193</td>\n",
       "      <td>-</td>\n",
       "      <td>$1,076,193</td>\n",
       "    </tr>\n",
       "  </tbody>\n",
       "</table>\n",
       "<p>200 rows × 5 columns</p>\n",
       "</div>"
      ],
      "text/plain": [
       "    rank                    release_group     worldwide      domestic  \\\n",
       "0      1                   Dune: Part Two  $704,242,968  $279,742,968   \n",
       "1      2  Godzilla x Kong: The New Empire  $519,380,032  $181,680,032   \n",
       "2      3                  Kung Fu Panda 4  $503,540,090  $184,999,090   \n",
       "3      4      Ghostbusters: Frozen Empire  $187,987,915  $107,387,915   \n",
       "4      5             Bob Marley: One Love  $177,193,170   $96,893,170   \n",
       "..   ...                              ...           ...           ...   \n",
       "195  196                This is My Mother    $1,113,611             -   \n",
       "196  197                            Sting    $1,090,798    $1,090,798   \n",
       "197  198                 Vojna policajtov    $1,087,016             -   \n",
       "198  199                           Fuks 2    $1,078,203             -   \n",
       "199  200              Operation Valentine    $1,076,193             -   \n",
       "\n",
       "          foreign  \n",
       "0    $424,500,000  \n",
       "1    $337,700,000  \n",
       "2    $318,541,000  \n",
       "3     $80,600,000  \n",
       "4     $80,300,000  \n",
       "..            ...  \n",
       "195    $1,113,611  \n",
       "196             -  \n",
       "197    $1,087,016  \n",
       "198    $1,078,203  \n",
       "199    $1,076,193  \n",
       "\n",
       "[200 rows x 5 columns]"
      ]
     },
     "execution_count": 13,
     "metadata": {},
     "output_type": "execute_result"
    }
   ],
   "source": [
    "df"
   ]
  },
  {
   "cell_type": "code",
   "execution_count": 14,
   "metadata": {},
   "outputs": [
    {
     "data": {
      "text/plain": [
       "rank             object\n",
       "release_group    object\n",
       "worldwide         int64\n",
       "domestic          int64\n",
       "foreign           int64\n",
       "dtype: object"
      ]
     },
     "execution_count": 14,
     "metadata": {},
     "output_type": "execute_result"
    }
   ],
   "source": [
    "df['worldwide'] = df['worldwide'].str.replace(\"$\",\"\")\n",
    "df['worldwide'] = df['worldwide'].str.replace(\",\",\"\")\n",
    "df['worldwide'] = df['worldwide'].astype('int64')\n",
    "df['domestic'] = df['domestic'].str.replace(\"$\",\"\")\n",
    "df['domestic'] = df['domestic'].str.replace(\",\",\"\")\n",
    "df['domestic'] = df['domestic'].str.replace(\"-\",\"0\")\n",
    "df['domestic'] = df['domestic'].astype('int64')\n",
    "df['foreign'] = df['foreign'].str.replace(\"$\",\"\")\n",
    "df['foreign'] = df['foreign'].str.replace(\",\",\"\")\n",
    "df['foreign'] = df['foreign'].str.replace(\"-\",\"0\")\n",
    "df['foreign'] = df['foreign'].astype('int64')\n",
    "\n",
    "df.dtypes"
   ]
  },
  {
   "cell_type": "code",
   "execution_count": 15,
   "metadata": {},
   "outputs": [
    {
     "data": {
      "text/html": [
       "<div>\n",
       "<style scoped>\n",
       "    .dataframe tbody tr th:only-of-type {\n",
       "        vertical-align: middle;\n",
       "    }\n",
       "\n",
       "    .dataframe tbody tr th {\n",
       "        vertical-align: top;\n",
       "    }\n",
       "\n",
       "    .dataframe thead th {\n",
       "        text-align: right;\n",
       "    }\n",
       "</style>\n",
       "<table border=\"1\" class=\"dataframe\">\n",
       "  <thead>\n",
       "    <tr style=\"text-align: right;\">\n",
       "      <th></th>\n",
       "      <th>rank</th>\n",
       "      <th>release_group</th>\n",
       "      <th>worldwide</th>\n",
       "      <th>domestic</th>\n",
       "      <th>foreign</th>\n",
       "    </tr>\n",
       "  </thead>\n",
       "  <tbody>\n",
       "    <tr>\n",
       "      <th>0</th>\n",
       "      <td>1</td>\n",
       "      <td>Dune: Part Two</td>\n",
       "      <td>704242968</td>\n",
       "      <td>279742968</td>\n",
       "      <td>424500000</td>\n",
       "    </tr>\n",
       "    <tr>\n",
       "      <th>1</th>\n",
       "      <td>2</td>\n",
       "      <td>Godzilla x Kong: The New Empire</td>\n",
       "      <td>519380032</td>\n",
       "      <td>181680032</td>\n",
       "      <td>337700000</td>\n",
       "    </tr>\n",
       "    <tr>\n",
       "      <th>2</th>\n",
       "      <td>3</td>\n",
       "      <td>Kung Fu Panda 4</td>\n",
       "      <td>503540090</td>\n",
       "      <td>184999090</td>\n",
       "      <td>318541000</td>\n",
       "    </tr>\n",
       "    <tr>\n",
       "      <th>3</th>\n",
       "      <td>4</td>\n",
       "      <td>Ghostbusters: Frozen Empire</td>\n",
       "      <td>187987915</td>\n",
       "      <td>107387915</td>\n",
       "      <td>80600000</td>\n",
       "    </tr>\n",
       "    <tr>\n",
       "      <th>4</th>\n",
       "      <td>5</td>\n",
       "      <td>Bob Marley: One Love</td>\n",
       "      <td>177193170</td>\n",
       "      <td>96893170</td>\n",
       "      <td>80300000</td>\n",
       "    </tr>\n",
       "    <tr>\n",
       "      <th>...</th>\n",
       "      <td>...</td>\n",
       "      <td>...</td>\n",
       "      <td>...</td>\n",
       "      <td>...</td>\n",
       "      <td>...</td>\n",
       "    </tr>\n",
       "    <tr>\n",
       "      <th>195</th>\n",
       "      <td>196</td>\n",
       "      <td>This is My Mother</td>\n",
       "      <td>1113611</td>\n",
       "      <td>0</td>\n",
       "      <td>1113611</td>\n",
       "    </tr>\n",
       "    <tr>\n",
       "      <th>196</th>\n",
       "      <td>197</td>\n",
       "      <td>Sting</td>\n",
       "      <td>1090798</td>\n",
       "      <td>1090798</td>\n",
       "      <td>0</td>\n",
       "    </tr>\n",
       "    <tr>\n",
       "      <th>197</th>\n",
       "      <td>198</td>\n",
       "      <td>Vojna policajtov</td>\n",
       "      <td>1087016</td>\n",
       "      <td>0</td>\n",
       "      <td>1087016</td>\n",
       "    </tr>\n",
       "    <tr>\n",
       "      <th>198</th>\n",
       "      <td>199</td>\n",
       "      <td>Fuks 2</td>\n",
       "      <td>1078203</td>\n",
       "      <td>0</td>\n",
       "      <td>1078203</td>\n",
       "    </tr>\n",
       "    <tr>\n",
       "      <th>199</th>\n",
       "      <td>200</td>\n",
       "      <td>Operation Valentine</td>\n",
       "      <td>1076193</td>\n",
       "      <td>0</td>\n",
       "      <td>1076193</td>\n",
       "    </tr>\n",
       "  </tbody>\n",
       "</table>\n",
       "<p>200 rows × 5 columns</p>\n",
       "</div>"
      ],
      "text/plain": [
       "    rank                    release_group  worldwide   domestic    foreign\n",
       "0      1                   Dune: Part Two  704242968  279742968  424500000\n",
       "1      2  Godzilla x Kong: The New Empire  519380032  181680032  337700000\n",
       "2      3                  Kung Fu Panda 4  503540090  184999090  318541000\n",
       "3      4      Ghostbusters: Frozen Empire  187987915  107387915   80600000\n",
       "4      5             Bob Marley: One Love  177193170   96893170   80300000\n",
       "..   ...                              ...        ...        ...        ...\n",
       "195  196                This is My Mother    1113611          0    1113611\n",
       "196  197                            Sting    1090798    1090798          0\n",
       "197  198                 Vojna policajtov    1087016          0    1087016\n",
       "198  199                           Fuks 2    1078203          0    1078203\n",
       "199  200              Operation Valentine    1076193          0    1076193\n",
       "\n",
       "[200 rows x 5 columns]"
      ]
     },
     "execution_count": 15,
     "metadata": {},
     "output_type": "execute_result"
    }
   ],
   "source": [
    "df"
   ]
  },
  {
   "cell_type": "code",
   "execution_count": 16,
   "metadata": {},
   "outputs": [],
   "source": [
    "df = df.set_index('release_group')"
   ]
  },
  {
   "cell_type": "code",
   "execution_count": 17,
   "metadata": {},
   "outputs": [
    {
     "data": {
      "text/plain": [
       "<Axes: ylabel='release_group'>"
      ]
     },
     "execution_count": 17,
     "metadata": {},
     "output_type": "execute_result"
    },
    {
     "data": {
      "image/png": "[encoded data removed]",
      "text/plain": [
       "<Figure size 640x480 with 1 Axes>"
      ]
     },
     "metadata": {},
     "output_type": "display_data"
    }
   ],
   "source": [
    "df.head(10).plot(kind='barh')"
   ]
  },
  {
   "cell_type": "markdown",
   "metadata": {},
   "source": [
    "### Data Cleansing\n",
    "\n",
    "(please change this markdown with your explanation of what you do for data wrangling)"
   ]
  },
  {
   "cell_type": "markdown",
   "metadata": {},
   "source": [
    "Cleansing data yang saya lakukan adalah mengubah tipe data penjualan yang sebelumnya bertipe object dan memiliki karakter khusus seperti $, tanda koma (,) dan - (dash) sehingga datanya hanya berupa angka, dengan demikian saya akan mengubah data tersebut menjadi integer yang nantinya akan saya visualisasikan."
   ]
  },
  {
   "cell_type": "markdown",
   "metadata": {},
   "source": [
    "### Data Visualization\n",
    "\n",
    "(please change this markdown with your explanation of what you do for data wrangling)"
   ]
  },
  {
   "cell_type": "markdown",
   "metadata": {},
   "source": [
    "Saya mencari data 10 Film Populer/terlaris di tahun 2024 dari data penjualan di seluruh dunia (Worldwide), data penjualan Domestic, dan data penjualan Foreign.\n",
    "Film-film tersebut adalah Dune: Part Two, Godzilla x Kong: The New Empire, Kung Fu Panda 4, Ghostbusters: Frozen Empire, Bob Marley: One Love, The Beekeeper, Mean Girls, Madame Web, Argylle, Exhuma.\n"
   ]
  },
  {
   "cell_type": "markdown",
   "metadata": {},
   "source": [
    "### Implementing your webscrapping to the flask dashboard\n",
    "\n",
    "- Copy paste all of your web scrapping process to the desired position on the `app.py`\n",
    "- Change the title of the dashboard in `index.html`"
   ]
  },
  {
   "cell_type": "markdown",
   "metadata": {},
   "source": [
    "## Finishing This Notebook with Your Analysis and Conclusion\n",
    "\n",
    "First you can do start with making the data visualization."
   ]
  },
  {
   "cell_type": "code",
   "execution_count": 18,
   "metadata": {
    "ExecuteTime": {
     "end_time": "2020-01-13T05:20:56.208237Z",
     "start_time": "2020-01-13T05:20:56.076043Z"
    }
   },
   "outputs": [
    {
     "data": {
      "text/plain": [
       "<Axes: ylabel='release_group'>"
      ]
     },
     "execution_count": 18,
     "metadata": {},
     "output_type": "execute_result"
    },
    {
     "data": {
      "image/png": "[encoded data removed]",
      "text/plain": [
       "<Figure size 640x480 with 1 Axes>"
      ]
     },
     "metadata": {},
     "output_type": "display_data"
    }
   ],
   "source": [
    "df.head(10).plot(kind='barh')"
   ]
  },
  {
   "cell_type": "markdown",
   "metadata": {},
   "source": [
    "## Analysis\n",
    "\n",
    "Analisis: Menganalisis data 10 Film Paling Populer di tahun 2024 dari website Box Office Mojo dengan menggunakan teknik scrapping, data cleansing, sampai akhirnya dapat membuat visualisasi dan dashboard untuk data tersebut. \n",
    "\n",
    "Konklusi: Film dengan penjualan tertinggi adalah Dune: Part Two dengan total penjualan dari film tersebut adalah $704,242,968 (Worlwide), $279,742,968 (Domestic) dan $424,500,000 (Foreign)."
   ]
  },
  {
   "cell_type": "markdown",
   "metadata": {},
   "source": [
    "### Extra Challange\n",
    "\n",
    "This will be not included to the scoring. \n",
    "\n",
    "- You can create additional visualization/analysis from the data.\n",
    "- Implement it to the dashboard with at `app.py` dan `index.html`."
   ]
  }
 ],
 "metadata": {
  "kernelspec": {
   "display_name": "yoda_tito",
   "language": "python",
   "name": "python3"
  },
  "language_info": {
   "codemirror_mode": {
    "name": "ipython",
    "version": 3
   },
   "file_extension": ".py",
   "mimetype": "text/x-python",
   "name": "python",
   "nbconvert_exporter": "python",
   "pygments_lexer": "ipython3",
   "version": "3.10.14"
  }
 },
 "nbformat": 4,
 "nbformat_minor": 2
}
